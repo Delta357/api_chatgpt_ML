{
 "cells": [
  {
   "cell_type": "code",
   "execution_count": 13,
   "id": "79b81534-6a2a-4c8a-bf64-24fa699e69a1",
   "metadata": {},
   "outputs": [],
   "source": [
    "import openai"
   ]
  },
  {
   "cell_type": "code",
   "execution_count": 2,
   "id": "ac2619d6-e9c0-465b-ae69-be88a24397e4",
   "metadata": {},
   "outputs": [
    {
     "name": "stdout",
     "output_type": "stream",
     "text": [
      "\n",
      "\n",
      "Carl Sagan foi um astrônomo, astrofísico, cosmólogo, autor e cientista americano. Ele provou um dos pioneiros da divulgação científica contemporânea, tornando-se um ícone cultural ao longo de sua carreira. Ele também desempenhou um papel importante na explicação científica da teoria da evolução por seleção natural. Sagan foi autor de muitos livros, como “Cosmos”, “Contact” e “Velhos e Novos Sonhos”. Ele perdeu a vida em 1996.\n"
     ]
    }
   ],
   "source": [
    "#chave de autenticação\n",
    "openai.api_key = \"Sua_chave\"\n",
    "\n",
    "response = openai.Completion.create(\n",
    "    model=\"text-davinci-003\",\n",
    "    prompt=\"Quem foi Carl Sagan?\",\n",
    "    max_tokens=1000    \n",
    "    )\n",
    "print(response.choices[0].text)"
   ]
  },
  {
   "cell_type": "code",
   "execution_count": 8,
   "id": "6b48b865-0d0c-4f2a-a66a-6c86e80b464b",
   "metadata": {},
   "outputs": [
    {
     "name": "stdout",
     "output_type": "stream",
     "text": [
      "\n",
      "\n",
      "## Primeiro importar as bibliotecas necessárias. \n",
      "library(ggplot2)\n",
      "library(caret)\n",
      "library(MASS)\n",
      "\n",
      "## As variáveis independentes (X1, X2, X3, etc.) precisam ser preparadas.\n",
      "dataset <- data.frame(X1, X2, X3)\n",
      "\n",
      "## Criando os conjuntos de treinamento (modelo) e de teste.\n",
      "train_set <- dataset[1:round(0.75*nrow(dataset)),]\n",
      "test_set <- dataset[(round(0.75*nrow(dataset)) + 1):nrow(dataset),]\n",
      "\n",
      "## Criando o modelo de regressão linear.\n",
      "modelo <- lm(Y~., data=train_set)\n",
      "\n",
      "## Previsões utilizando o modelo de regressão linear.\n",
      "predicoes <- predict(modelo, newdata=test_set)\n",
      "\n",
      "## Avaliando o modelo como um todo.\n",
      "sumario <- summary(modelo)\n",
      "\n",
      "## Plotagem dos resultados obtidos. \n",
      "ggplot(test_set, aes(x=X1, y=Y)) + \n",
      "  geom_point() +\n",
      "  geom_line(aes(y=predicoes), size=1.5, color=\"red\")\n"
     ]
    }
   ],
   "source": [
    "#chave de autenticação\n",
    "openai.api_key = \"Sua_chave\"\n",
    "\n",
    "response = openai.Completion.create(\n",
    "    model=\"text-davinci-003\",\n",
    "    prompt=\"Criar modelo regressão linear com R\",\n",
    "    max_tokens=1000    \n",
    "    )\n",
    "print(response.choices[0].text)"
   ]
  },
  {
   "cell_type": "code",
   "execution_count": 12,
   "id": "7e816a2e-a159-4f05-b15e-d0a62f6a4c81",
   "metadata": {},
   "outputs": [
    {
     "name": "stdout",
     "output_type": "stream",
     "text": [
      " positivas\n",
      "\n",
      "O modelo de análise de sentimento é usado para analisar linguagem natural ou texto e classificar o conteúdo como positivo ou negativo. Esta técnica é usada em vários campos, incluindo o marketing, pesquisa de opinião e mídia.\n",
      "\n",
      "A seguir apresentamos um exemplo em que usamos R para criar um modelo de análise de sentimento. Este exemplo usa o pacote “Sentiment Analysis” do R para criar um modelo de sentimentos baseado em uma série de frases positivas.\n",
      "\n",
      "Primeiro, usaremos a função \"get_sentiment_data\"() do pacote \"Sentiment Analysis\" para obter os dados de sentimento que precisamos trabalhar.\n",
      "\n",
      "sentiment_data <- get_sentiment_data(type=\"positive\")\n",
      "\n",
      "Em seguida, criaremos as frases positivas que usaremos como exemplos para treinar o nosso modelo. Aqui usamos 5 frases aleatórias:\n",
      "\n",
      "positive_sentences <- c(\"Estou muito feliz hoje!\",\n",
      "                        \"O dia está lindo!\",\n",
      "                        \"Eu acabei de completar minha tarefa!\",\n",
      "                        \"Aprendi novas habilidades hoje.\",\n",
      "                        \"Minha equipe me apoiou muito.\")\n",
      "\n",
      "Agora, podemos criar o nosso modelo de análise de sentimento usando o algoritmo de suporte de vetores.\n",
      "\n",
      "svm_model <- train_svm(sentiment_data, \"classes\", positive_sentences)\n",
      "\n",
      "Finalmente, testamos o nosso modelo com novas frases positivas para ver como o modelo se sai.\n",
      "\n",
      "test_sentences <- c(\"Estou tão empolgado com este projeto!\",\n",
      "                    \"Tivemos um grande sucesso!\",\n",
      "                    \"Minha equipe foi incrível hoje!\")\n",
      "\n",
      "svm_model$predict(test_sentences)\n",
      "\n",
      "Resultado:\n",
      "[1] \"positive\" \"positive\" \"positive\"\n"
     ]
    }
   ],
   "source": [
    "response = openai.Completion.create(\n",
    "    model=\"text-davinci-003\",\n",
    "    prompt=\"Criar modelo análise de sentimento mostra um exemplo em com R e criar base de frases\",\n",
    "    max_tokens=1000    \n",
    "    )\n",
    "print(response.choices[0].text)"
   ]
  },
  {
   "cell_type": "code",
   "execution_count": 3,
   "id": "f1d4cf1b-d783-453d-a03c-bc3d65987eeb",
   "metadata": {},
   "outputs": [
    {
     "name": "stdout",
     "output_type": "stream",
     "text": [
      "\n",
      "\n",
      "William Blake escreveu um grande número de livros, contendo poesia notável, além de obras não-literárias. Os títulos mais notáveis incluem:\n",
      "\n",
      "Poesia:\n",
      "– Songs of Innocence (Cânticos da Inocência, 1789)\n",
      "– Songs of Experience (Cânticos da Experiência, 1794)\n",
      "– The Marriage of Heaven and Hell (O Casamento do Céu e do Inferno, 1790)\n",
      "– Visions of the Daughters of Albion (Visões das Filhas de Albion, 1793)\n",
      "– Milton (1804-1808)\n",
      "– Jerusalem (1904)\n",
      "\n",
      "Obras Não-Literárias:\n",
      "– Thel (1789)\n",
      "– ‘There is No Natural Religion (Não Existe Religião Natural, 1788)\n",
      "– All Religions are One (Todas as Religiões são Uma, 1788)\n",
      "– On Homers Poetry (Sobre a Poesia de Homero, 1818)\n",
      "– The French Revolution (revisão de 1791)\n"
     ]
    }
   ],
   "source": [
    "#chave de autenticação\n",
    "openai.api_key = \"Sua_chave\"\n",
    "\n",
    "response = openai.Completion.create(\n",
    "    model=\"text-davinci-003\",\n",
    "    prompt=\"Quais livros ele escreveu?\",\n",
    "    max_tokens=1000    \n",
    "    )\n",
    "print(response.choices[0].text)"
   ]
  },
  {
   "cell_type": "code",
   "execution_count": 4,
   "id": "be2c599e-50f0-4b5f-b908-7ed371f84450",
   "metadata": {},
   "outputs": [
    {
     "name": "stdout",
     "output_type": "stream",
     "text": [
      " \n",
      "\n",
      "Alguns dos principais livros de Carl Sagan foram: \n",
      "\n",
      "* Cosmos (1980). \n",
      "* O Mundo Assombrado por Demônios (1995). \n",
      "* Contacto (1985).\n",
      "* Broca's Brain: Reflexões sobre a Busca da Ciência (1979). \n",
      "* O Espírito da Descoberta Científica (2014). \n",
      "* Os Dragões do Éden (1977). \n",
      "* Pale Blue Dot: Uma Visão da Terra de Trás de Nossa Própria Órbita (1994).\n",
      "* Vida no Universo (1991). \n",
      "* Another, Visão da Criação (1973). \n",
      "* Os Mundos de Carl Sagan (1992).\n"
     ]
    }
   ],
   "source": [
    "contexto = '''Carl Sagan foi um astrônomo, astrofísico, astrôlogo, \n",
    "        cosmólogo e professor universitário americano. Ele é mais conhecido por suas \n",
    "        contribuições para o campo da astronomia, pela sua popularização científica \n",
    "        através de seus livros e programas de televisão, e como um defensor ativo da prevenção da \n",
    "        poluição global e alerta dos perigos potenciais da guerra nuclear. Sagan publicou diversos \n",
    "        livros premiados, liderou os esforços de envio de mensagens de \n",
    "        rádio para além do Sistema Solar, e trabalhou diretamente na sonda espacial Voyager. \n",
    "        Sagan também recebeu o prêmio Pulitzer por sua obra The Dragons of Eden.'''\n",
    "\n",
    "#chave de autenticação\n",
    "openai.api_key = \"Sua_chave\"\n",
    "\n",
    "response = openai.Completion.create(\n",
    "    model=\"text-davinci-003\",\n",
    "    prompt= contexto + \" Quais livros ele escreveu?\",\n",
    "    max_tokens=1000    \n",
    "    )\n",
    "print(response.choices[0].text)"
   ]
  },
  {
   "cell_type": "code",
   "execution_count": 5,
   "id": "633b1d4f-9bea-4e94-81a3-b7b1b4d24daf",
   "metadata": {},
   "outputs": [
    {
     "name": "stdout",
     "output_type": "stream",
     "text": [
      "\n",
      "Sim, somos especializados em Aquecimentos de Piscinas, seja através de painéis solares ou de Trocadores de Calor. Além disso, nossa equipe técnica tem vasta experiência no projeto e instalação de sistemas de aquecimento de piscinas.\n"
     ]
    }
   ],
   "source": [
    "contexto = '''Somos especializados em Aquecimentos de Piscinas, seja através de painéis solares ou de Trocadores de Calor.  \n",
    "            Estamos localizados em Porto Alegre na Rua Voluntários da Pátria 1234.  \n",
    "            Nosso horário de funcionamento é de segunda a sexta das 8 às 18 horas e sábado das 8 ao meio dia.'''\n",
    "\n",
    "#chave de autenticação\n",
    "openai.api_key = \"Sua_chave\"\n",
    "\n",
    "response = openai.Completion.create(\n",
    "    model=\"text-davinci-003\",\n",
    "    prompt=contexto + \"Vocês colocam aquecimento em piscinas?\" ,\n",
    "    #temperature =1,\n",
    "    max_tokens=1000    \n",
    "    )\n",
    "print(response.choices[0].text)"
   ]
  },
  {
   "cell_type": "code",
   "execution_count": 7,
   "id": "10c601da-49b4-47af-a3cb-588a9898fdc2",
   "metadata": {},
   "outputs": [],
   "source": [
    "#chave de autenticação\n",
    "openai.api_key = \"Sua_chave\"\n",
    "\n",
    "#response = openai.Completion.create(\n",
    "    #model=\"davinci:ft-personal-2023-01-10-00-44-48\",\n",
    "    #prompt=\" Vocês instalam aquecimento solar?\" ,\n",
    "    #temperature =0,\n",
    "    #max_tokens=1000)\n",
    "#print(response.choices[0].text)"
   ]
  },
  {
   "cell_type": "code",
   "execution_count": null,
   "id": "72f942f8-136d-4dd9-bac6-dd8a3e0d6c19",
   "metadata": {},
   "outputs": [],
   "source": []
  }
 ],
 "metadata": {
  "kernelspec": {
   "display_name": "Python 3 (ipykernel)",
   "language": "python",
   "name": "python3"
  },
  "language_info": {
   "codemirror_mode": {
    "name": "ipython",
    "version": 3
   },
   "file_extension": ".py",
   "mimetype": "text/x-python",
   "name": "python",
   "nbconvert_exporter": "python",
   "pygments_lexer": "ipython3",
   "version": "3.9.13"
  }
 },
 "nbformat": 4,
 "nbformat_minor": 5
}
