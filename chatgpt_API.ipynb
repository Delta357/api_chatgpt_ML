{
  "nbformat": 4,
  "nbformat_minor": 0,
  "metadata": {
    "colab": {
      "private_outputs": true,
      "provenance": [],
      "authorship_tag": "ABX9TyPNracgereBTC9UF4Owpvnn",
      "include_colab_link": true
    },
    "kernelspec": {
      "name": "python3",
      "display_name": "Python 3"
    },
    "language_info": {
      "name": "python"
    }
  },
  "cells": [
    {
      "cell_type": "markdown",
      "metadata": {
        "id": "view-in-github",
        "colab_type": "text"
      },
      "source": [
        "<a href=\"https://colab.research.google.com/github/Delta357/API_GPT-4/blob/main/chatgpt_API.ipynb\" target=\"_parent\"><img src=\"https://colab.research.google.com/assets/colab-badge.svg\" alt=\"Open In Colab\"/></a>"
      ]
    },
    {
      "cell_type": "code",
      "execution_count": null,
      "metadata": {
        "id": "ul9HDAbcLlo7"
      },
      "outputs": [],
      "source": [
        "# Install the necessary libraries\n",
        "!pip install openai pandas numpy sklearn awscli boto3 sagemaker"
      ]
    },
    {
      "cell_type": "code",
      "source": [
        "openai.api_key = ''"
      ],
      "metadata": {
        "id": "Sw9u-bv9Lplz"
      },
      "execution_count": null,
      "outputs": []
    },
    {
      "cell_type": "code",
      "source": [
        "# Set the model and prompt\n",
        "model_engine = \"text-davinci-003\"\n",
        "prompt = \"Criar um modelo machine learning de nlp com para analise de sentimento com pyspark mostar matriz de confussão e acuracia do modelo mostrar um exemplo em python\"\n",
        "\n",
        "# Set the maximum number of tokens to generate in the response\n",
        "max_tokens = 2000\n",
        "\n",
        "# Generate a response\n",
        "completion = openai.Completion.create(\n",
        "    engine=model_engine,\n",
        "    prompt=prompt,\n",
        "    max_tokens=max_tokens,\n",
        "    temperature=0.5,\n",
        "    top_p=1,\n",
        "    frequency_penalty=0,\n",
        "    presence_penalty=0\n",
        ")\n",
        "\n",
        "# Print the response\n",
        "print(completion.choices[0].text)"
      ],
      "metadata": {
        "id": "UouwipO8MDWD"
      },
      "execution_count": null,
      "outputs": []
    },
    {
      "cell_type": "code",
      "source": [
        "!pip install pyspark"
      ],
      "metadata": {
        "id": "ZsWWBjWUTZeJ"
      },
      "execution_count": null,
      "outputs": []
    },
    {
      "cell_type": "code",
      "source": [
        "!pip install spark"
      ],
      "metadata": {
        "id": "08020K--T0lK"
      },
      "execution_count": null,
      "outputs": []
    },
    {
      "cell_type": "code",
      "source": [
        "#importando bibliotecas\n",
        "from pyspark.ml.feature import HashingTF, IDF, Tokenizer\n",
        "from pyspark.ml.feature import StringIndexer\n",
        "from pyspark.ml import Pipeline\n",
        "from pyspark.ml.classification import LogisticRegression\n",
        "from pyspark.ml.evaluation import MulticlassClassificationEvaluator"
      ],
      "metadata": {
        "id": "CKmhphvXTvzw"
      },
      "execution_count": null,
      "outputs": []
    },
    {
      "cell_type": "code",
      "source": [
        "import pyspark\n",
        "from pyspark.sql import SparkSession\n",
        "\n",
        "# Create SparkSession\n",
        "spark = SparkSession.builder.master(\"local[1]\").appName(\"SparkByExamples.com\").getOrCreate()\n",
        "sc=spark.sparkContext"
      ],
      "metadata": {
        "id": "8dmh9V4hXzvP"
      },
      "execution_count": null,
      "outputs": []
    },
    {
      "cell_type": "code",
      "source": [
        "#dados de treino\n",
        "train = spark.createDataFrame([\n",
        "    (0, \"I am very happy today\", 1.0),\n",
        "    (1, \"I am very sad today\", 0.0),\n",
        "    (2, \"I am very angry today\", 0.0),\n",
        "    (3, \"I am very excited today\", 1.0),\n",
        "    (4, \"I am very disappointed today\", 0.0),\n",
        "    (5, \"Respiratory syncytial virus, or RSV, is a common respiratory virus that is the leading cause of bronchiolitis\", 1.0),\n",
        "    (6, \"As pioneers in asthma, we continue to push the boundaries of science. We’re joining leading experts at ATS2021\", 0.0),\n",
        "    (7, \"It takes innovation to transform healthcare experiences for patients, but innovation doesn’t happen in isolation\", 0.0),\n",
        "    (8, \"Every day billions of people are trying to balance living their lives with the limitations posed by chronic disease\", 0.0),\n",
        "    (9, \"An estimated 37 million people live with chronic kidneydisease in the US and up to 90% are undiagnosed.\",1.0),\n",
        "    (10,\"RSV is the leading cause of bronchiolitis and pneumonia cases in infants under one year of age and remains\",0.0)\n",
        "\n",
        "], [\"id\", \"text\", \"label\"])"
      ],
      "metadata": {
        "id": "AUUExS4SWaqd"
      },
      "execution_count": null,
      "outputs": []
    },
    {
      "cell_type": "code",
      "source": [
        "#tokenizando\n",
        "tokenizer = Tokenizer(inputCol=\"text\", outputCol=\"words\")\n",
        "wordsData = tokenizer.transform(train)"
      ],
      "metadata": {
        "id": "Q726YEFGWoec"
      },
      "execution_count": null,
      "outputs": []
    },
    {
      "cell_type": "code",
      "source": [
        "#criando o modelo\n",
        "hashingTF = HashingTF(inputCol=\"words\", outputCol=\"rawFeatures\")\n",
        "featurizedData = hashingTF.transform(wordsData)"
      ],
      "metadata": {
        "id": "KJY-OHEKWojV"
      },
      "execution_count": null,
      "outputs": []
    },
    {
      "cell_type": "code",
      "source": [
        "#gerando o modelo\n",
        "idf = IDF(inputCol=\"rawFeatures\", outputCol=\"features\")\n",
        "\n",
        "idfModel = idf.fit(featurizedData)\n",
        "rescaledData = idfModel.transform(featurizedData)"
      ],
      "metadata": {
        "id": "gAq4GIk3Wrc_"
      },
      "execution_count": null,
      "outputs": []
    },
    {
      "cell_type": "code",
      "source": [
        "#criando o label\n",
        "label_stringIdx = StringIndexer(inputCol = \"label\", outputCol = \"indexed\")\n",
        "label_model = label_stringIdx.fit(rescaledData)\n",
        "final_data = label_model.transform(rescaledData)"
      ],
      "metadata": {
        "id": "E2BfzxtvWrhk"
      },
      "execution_count": null,
      "outputs": []
    },
    {
      "cell_type": "code",
      "source": [
        "#dividindo os dados\n",
        "(train_data, test_data) = final_data.randomSplit([0.75, 0.25])"
      ],
      "metadata": {
        "id": "kLHn5vtnWu2_"
      },
      "execution_count": null,
      "outputs": []
    },
    {
      "cell_type": "code",
      "source": [
        "#criando o modelo de regressão logistica\n",
        "lr = LogisticRegression(maxIter=20, regParam=0.3, elasticNetParam=0)\n",
        "\n",
        "#criando o pipeline\n",
        "pipeline = Pipeline(stages=[lr])\n",
        "\n",
        "#treinando o modelo\n",
        "model = pipeline.fit(train_data)"
      ],
      "metadata": {
        "id": "B0Ta0PlJWu6V"
      },
      "execution_count": null,
      "outputs": []
    },
    {
      "cell_type": "code",
      "source": [
        "#testando o modelo\n",
        "predictions = model.transform(test_data)\n",
        "predictions"
      ],
      "metadata": {
        "id": "suTfwMziWu9Q"
      },
      "execution_count": null,
      "outputs": []
    },
    {
      "cell_type": "code",
      "source": [
        "#calculando a acuracia\n",
        "evaluator = MulticlassClassificationEvaluator(predictionCol=\"prediction\")\n",
        "accuracy = evaluator.evaluate(predictions)\n",
        "\n",
        "#resultado\n",
        "print(\"Acurácia do modelo:\", accuracy)"
      ],
      "metadata": {
        "id": "Og_beCX7W1Yd"
      },
      "execution_count": null,
      "outputs": []
    },
    {
      "cell_type": "code",
      "source": [
        "# matriz de confusão\n",
        "predictions.groupBy(\"label\",\"prediction\").count().show()"
      ],
      "metadata": {
        "id": "CFptTK_wW1bh"
      },
      "execution_count": null,
      "outputs": []
    },
    {
      "cell_type": "code",
      "source": [],
      "metadata": {
        "id": "0ywK_gkCW1eK"
      },
      "execution_count": null,
      "outputs": []
    },
    {
      "cell_type": "code",
      "source": [],
      "metadata": {
        "id": "cK-VS7ZMWvAf"
      },
      "execution_count": null,
      "outputs": []
    }
  ]
}